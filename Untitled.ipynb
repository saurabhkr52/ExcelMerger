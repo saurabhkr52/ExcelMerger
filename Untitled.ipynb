{
 "cells": [
  {
   "cell_type": "code",
   "execution_count": 4,
   "id": "5dd7c607-4ef5-478c-83a2-54295f8a2fb0",
   "metadata": {},
   "outputs": [],
   "source": [
    "import streamlit as st\n",
    "import pandas as pd\n",
    "from io import BytesIO\n",
    "\n",
    "def clean_data(df):\n",
    "    # Ensure the dataframe has at least 3 columns (A, B, C)\n",
    "    df = df.copy()\n",
    "    if df.shape[1] >= 3:\n",
    "        # Apply SUBSTITUTE-like behavior: remove spaces from column B (index 1)\n",
    "        df.iloc[:, 1] = df.iloc[:, 1].astype(str).str.replace(\" \", \"\")\n",
    "        \n",
    "        # Apply RIGHT-like behavior: get last 10 characters from column C (index 2)\n",
    "        df.iloc[:, 2] = df.iloc[:, 2].astype(str).str[-10:]\n",
    "    return df\n",
    "\n",
    "def main():\n",
    "    st.title(\"Excel Merger and Cleaner\")\n",
    "\n",
    "    uploaded_files = st.file_uploader(\"Upload Multiple Excel Files\", type=[\"xlsx\"], accept_multiple_files=True)\n",
    "\n",
    "    if uploaded_files:\n",
    "        dfs = []\n",
    "        for file in uploaded_files:\n",
    "            df = pd.read_excel(file)\n",
    "            dfs.append(df)\n",
    "\n",
    "        merged_df = pd.concat(dfs, ignore_index=True)\n",
    "        cleaned_df = clean_data(merged_df)\n",
    "\n",
    "        # Save to Excel in memory\n",
    "        output = BytesIO()\n",
    "        with pd.ExcelWriter(output, engine='openpyxl') as writer:\n",
    "            cleaned_df.to_excel(writer, index=False, sheet_name='CleanedData')\n",
    "        output.seek(0)\n",
    "\n",
    "        st.success(\"Files merged and cleaned successfully!\")\n",
    "        \n",
    "        st.download_button(\n",
    "            label=\"Download Cleaned Excel File\",\n",
    "            data=output,\n",
    "            file_name=\"cleanedData.xlsx\",\n",
    "            mime=\"application/vnd.openxmlformats-officedocument.spreadsheetml.sheet\"\n",
    "        )\n",
    "\n",
    "if __name__ == \"__main__\":\n",
    "    main()\n"
   ]
  },
  {
   "cell_type": "code",
   "execution_count": null,
   "id": "011d758a-da88-4d69-99f5-7f27a0668373",
   "metadata": {},
   "outputs": [],
   "source": []
  }
 ],
 "metadata": {
  "kernelspec": {
   "display_name": "Python 3 (ipykernel)",
   "language": "python",
   "name": "python3"
  },
  "language_info": {
   "codemirror_mode": {
    "name": "ipython",
    "version": 3
   },
   "file_extension": ".py",
   "mimetype": "text/x-python",
   "name": "python",
   "nbconvert_exporter": "python",
   "pygments_lexer": "ipython3",
   "version": "3.11.7"
  }
 },
 "nbformat": 4,
 "nbformat_minor": 5
}
